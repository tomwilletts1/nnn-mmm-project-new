{
 "cells": [
  {
   "cell_type": "code",
   "execution_count": null,
   "id": "8f347fe7",
   "metadata": {},
   "outputs": [],
   "source": [
    "# 1. Load Data\n",
    "# 2. Merge with embeddings\n",
    "# 3. Create final X, y matrix\n",
    "# 4. Train model\n",
    "# 5. Run attribution\n",
    "# 6. Score creatives\n",
    "\n",
    "# Coming next...\n"
   ]
  }
 ],
 "metadata": {
  "language_info": {
   "name": "python"
  }
 },
 "nbformat": 4,
 "nbformat_minor": 5
}
