{
 "cells": [
  {
   "cell_type": "code",
   "execution_count": null,
   "id": "8f347fe7",
   "metadata": {},
   "outputs": [],
   "source": [
    "# 1. Load Data\n",
    "# 2. Merge with embeddings\n",
    "# 3. Create final X, y matrix\n",
    "# 4. Train model\n",
    "# 5. Run attribution\n",
    "# 6. Score creatives\n",
    "\n",
    "# Coming next...\n"
   ]
  },
  {
   "cell_type": "code",
   "execution_count": 2,
   "id": "47a8120f",
   "metadata": {},
   "outputs": [
    {
     "ename": "ModuleNotFoundError",
     "evalue": "No module named 'src'",
     "output_type": "error",
     "traceback": [
      "\u001b[1;31m---------------------------------------------------------------------------\u001b[0m",
      "\u001b[1;31mModuleNotFoundError\u001b[0m                       Traceback (most recent call last)",
      "Cell \u001b[1;32mIn[2], line 2\u001b[0m\n\u001b[0;32m      1\u001b[0m \u001b[38;5;28;01mimport\u001b[39;00m \u001b[38;5;21;01mpandas\u001b[39;00m \u001b[38;5;28;01mas\u001b[39;00m \u001b[38;5;21;01mpd\u001b[39;00m\n\u001b[1;32m----> 2\u001b[0m \u001b[38;5;28;01mfrom\u001b[39;00m \u001b[38;5;21;01msrc\u001b[39;00m\u001b[38;5;21;01m.\u001b[39;00m\u001b[38;5;21;01membeddings_utils\u001b[39;00m \u001b[38;5;28;01mimport\u001b[39;00m embed_dataframe_column\n\u001b[0;32m      3\u001b[0m \u001b[38;5;28;01mfrom\u001b[39;00m \u001b[38;5;21;01msrc\u001b[39;00m\u001b[38;5;21;01m.\u001b[39;00m\u001b[38;5;21;01mmodel\u001b[39;00m \u001b[38;5;28;01mimport\u001b[39;00m train_model\n\u001b[0;32m      5\u001b[0m \u001b[38;5;66;03m# 1. Load processed data\u001b[39;00m\n",
      "\u001b[1;31mModuleNotFoundError\u001b[0m: No module named 'src'"
     ]
    }
   ],
   "source": [
    "import pandas as pd\n",
    "from src.embeddings_utils import embed_dataframe_column\n",
    "from src.model import train_model\n",
    "\n",
    "# 1. Load processed data\n",
    "df = pd.read_csv(\"data/processed/processed_weekly_data.csv\")\n",
    "\n",
    "# 2. Generate/load embeddings\n",
    "embeddings_df = embed_dataframe_column(df, \"creative_text\", \"data/embeddings/creative_text_embeddings.csv\")\n",
    "# embeddings_df = pd.read_csv(\"data/embeddings/creative_text_embeddings.csv\", index_col=0)  # if already generated\n",
    "\n",
    "# 3. Merge\n",
    "df = df.merge(embeddings_df, left_on=\"creative_text\", right_index=True, how=\"left\")\n",
    "\n",
    "# 4. Prepare features/target\n",
    "embedding_cols = [col for col in embeddings_df.columns if col.isdigit() or col.isnumeric()]\n",
    "feature_cols = [\"spend\", \"impressions\", \"creative_length\", \"creative_word_count\"] + embedding_cols\n",
    "X = df[feature_cols].fillna(0).values\n",
    "y = df[\"sales\"].values\n",
    "\n",
    "# 5. Train model\n",
    "model, preds = train_model(X, y)"
   ]
  },
  {
   "cell_type": "code",
   "execution_count": null,
   "id": "b1a047db",
   "metadata": {},
   "outputs": [],
   "source": []
  }
 ],
 "metadata": {
  "kernelspec": {
   "display_name": "base",
   "language": "python",
   "name": "python3"
  },
  "language_info": {
   "codemirror_mode": {
    "name": "ipython",
    "version": 3
   },
   "file_extension": ".py",
   "mimetype": "text/x-python",
   "name": "python",
   "nbconvert_exporter": "python",
   "pygments_lexer": "ipython3",
   "version": "3.12.7"
  }
 },
 "nbformat": 4,
 "nbformat_minor": 5
}
